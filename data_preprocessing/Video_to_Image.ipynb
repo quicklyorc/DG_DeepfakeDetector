{
  "nbformat": 4,
  "nbformat_minor": 0,
  "metadata": {
    "colab": {
      "provenance": []
    },
    "kernelspec": {
      "name": "python3",
      "display_name": "Python 3"
    },
    "language_info": {
      "name": "python"
    }
  },
  "cells": [
    {
      "cell_type": "code",
      "execution_count": 4,
      "metadata": {
        "colab": {
          "base_uri": "https://localhost:8080/"
        },
        "id": "RiNAsDPExyys",
        "outputId": "664df153-d9df-41c0-d36a-a2d72ef75b34"
      },
      "outputs": [
        {
          "output_type": "stream",
          "name": "stdout",
          "text": [
            "Drive already mounted at /content/drive; to attempt to forcibly remount, call drive.mount(\"/content/drive\", force_remount=True).\n"
          ]
        }
      ],
      "source": [
        "from google.colab import drive\n",
        "drive.mount('/content/drive')"
      ]
    },
    {
      "cell_type": "code",
      "source": [
        "import pandas as pd\n",
        "import numpy as np\n",
        "import glob\n",
        "import os\n",
        "import cv2\n",
        "import random\n",
        "from google.colab import drive"
      ],
      "metadata": {
        "id": "Exf-w3C3x5Dc"
      },
      "execution_count": 5,
      "outputs": []
    },
    {
      "cell_type": "markdown",
      "source": [
        "## Fake 동영상 Video to Image [인당 약 2000개의 동영상]"
      ],
      "metadata": {
        "id": "hbBe8DFqNzy1"
      }
    },
    {
      "cell_type": "code",
      "source": [
        "# Fake 다운로드 될 경로\n",
        "download_path = \"/content/drive/MyDrive/aihub/딥페이크 변조 영상/train_img/Fake_img/Fake_img1\""
      ],
      "metadata": {
        "id": "x7nqKEDryI3i"
      },
      "execution_count": 57,
      "outputs": []
    },
    {
      "cell_type": "code",
      "source": [
        "df_fake = pd.read_csv(\"/content/drive/MyDrive/aihub/딥페이크 변조 영상/Fake_list.csv\")"
      ],
      "metadata": {
        "id": "-G9gpdRJyyf4"
      },
      "execution_count": 76,
      "outputs": []
    },
    {
      "cell_type": "code",
      "source": [
        "#fake 경로 list 저장\n",
        "file_list = df_fake['0']\n",
        "file_count = len(file_list)\n",
        "file_count"
      ],
      "metadata": {
        "colab": {
          "base_uri": "https://localhost:8080/"
        },
        "id": "jzpYUDqqy1OX",
        "outputId": "a2b9227f-c74d-46a8-a854-569bc63ab902"
      },
      "execution_count": 82,
      "outputs": [
        {
          "output_type": "execute_result",
          "data": {
            "text/plain": [
              "26198"
            ]
          },
          "metadata": {},
          "execution_count": 82
        }
      ]
    },
    {
      "cell_type": "markdown",
      "source": [
        "1개의 동영상 10개의 프레임 추출 [테스트 용도]"
      ],
      "metadata": {
        "id": "IIY2QQ25_5Ch"
      }
    },
    {
      "cell_type": "code",
      "source": [
        "# 프레임등의 정보 저장\n",
        "video = cv2.VideoCapture(file_list[0])\n",
        "fps = video.get(cv2.CAP_PROP_FPS) #초당 프레임 수\n",
        "total_frames = int(video.get(cv2.CAP_PROP_FRAME_COUNT)) #영상 전체의 프레임\n",
        "\n",
        "# 전체 프레임 중에 무작위로 10개의 숫자 뽑기\n",
        "random_frames = random.sample(range(total_frames), 10)\n",
        "random_frames"
      ],
      "metadata": {
        "colab": {
          "base_uri": "https://localhost:8080/"
        },
        "id": "SY6qIYlC1_JJ",
        "outputId": "8a7b83a6-3284-4c8b-f0b2-e548cc3b1f81"
      },
      "execution_count": 60,
      "outputs": [
        {
          "output_type": "execute_result",
          "data": {
            "text/plain": [
              "[382, 486, 389, 593, 400, 297, 408, 233, 406, 468]"
            ]
          },
          "metadata": {},
          "execution_count": 60
        }
      ]
    },
    {
      "cell_type": "code",
      "source": [
        "count = 0\n",
        "\n",
        "while(video.isOpened()):\n",
        "    ret, frame = video.read()\n",
        "    if not ret:\n",
        "      print(\"동영상 끝\")\n",
        "      break\n",
        "\n",
        "    # 현재 프레임 인덱스가 무작위로 선택된 프레임 인덱스와 일치하는 경우에만 저장\n",
        "    if count in random_frames:\n",
        "        # 이미지를 저장할 파일 경로\n",
        "        save_file_path = f\"{download_path}/frame_{count}.jpg\"\n",
        "        # 이미지 저장\n",
        "        cv2.imwrite(save_file_path, frame)\n",
        "        print(f\"프레임 {count} 저장 완료\")\n",
        "\n",
        "    count += 1\n",
        "\n",
        "# 동영상 파일 닫기\n",
        "video.release()"
      ],
      "metadata": {
        "colab": {
          "base_uri": "https://localhost:8080/"
        },
        "id": "eOW2i1kd1dT6",
        "outputId": "0a3895f8-a651-4dec-c602-cde959f01360"
      },
      "execution_count": 61,
      "outputs": [
        {
          "output_type": "stream",
          "name": "stdout",
          "text": [
            "프레임 233 저장 완료\n",
            "프레임 297 저장 완료\n",
            "프레임 382 저장 완료\n",
            "프레임 389 저장 완료\n",
            "프레임 400 저장 완료\n",
            "프레임 406 저장 완료\n",
            "프레임 408 저장 완료\n",
            "프레임 468 저장 완료\n",
            "프레임 486 저장 완료\n",
            "프레임 593 저장 완료\n",
            "동영상 끝\n"
          ]
        }
      ]
    },
    {
      "cell_type": "markdown",
      "source": [
        "n개의 영상 10개의 프레임으로 추출"
      ],
      "metadata": {
        "id": "hmg8GI7oAETw"
      }
    },
    {
      "cell_type": "code",
      "source": [
        "file_list_500 = file_list[:500]"
      ],
      "metadata": {
        "id": "uByvTvqJ9n3C"
      },
      "execution_count": 68,
      "outputs": []
    },
    {
      "cell_type": "code",
      "source": [
        "for file in file_list_500:\n",
        "  # 프레임등의 정보 저장\n",
        "  video = cv2.VideoCapture(file)\n",
        "  fps = video.get(cv2.CAP_PROP_FPS) #초당 프레임 수\n",
        "  total_frames = int(video.get(cv2.CAP_PROP_FRAME_COUNT)) #영상 전체의 프레임\n",
        "\n",
        "  # 전체 프레임 중에 무작위로 10개의 숫자 뽑기\n",
        "  random_frames = random.sample(range(total_frames), 10)\n",
        "\n",
        "  count = 0 # 현재 프레임 초기화\n",
        "\n",
        "  while(video.isOpened()):\n",
        "      ret, frame = video.read()\n",
        "      if not ret:\n",
        "        print(f\"동영상 {file.split('/')[-1].split('.')[0]} 종료\")\n",
        "        break\n",
        "\n",
        "      # 현재 프레임 인덱스가 무작위로 선택된 프레임 인덱스와 일치하는 경우에만 저장\n",
        "      if count in random_frames:\n",
        "          # 이미지를 저장할 파일 경로\n",
        "          save_file_path = f\"{download_path}/{file.split('/')[-1].split('.')[0]}_{count}.jpg\"\n",
        "          # 이미지 저장\n",
        "          cv2.imwrite(save_file_path, frame)\n",
        "          # print(f\"프레임 {count} 저장 완료\")\n",
        "\n",
        "      count += 1\n",
        "\n",
        "  # 동영상 파일 닫기\n",
        "  video.release()"
      ],
      "metadata": {
        "id": "IEEDMwAT1h3W"
      },
      "execution_count": null,
      "outputs": []
    },
    {
      "cell_type": "markdown",
      "source": [
        "최종 fake_list Video to Image"
      ],
      "metadata": {
        "id": "DUXZ-7nqLi5f"
      }
    },
    {
      "cell_type": "code",
      "source": [
        "import pandas as pd\n",
        "import numpy as np\n",
        "import glob\n",
        "import os\n",
        "import cv2\n",
        "import random\n",
        "from google.colab import drive\n",
        "\n",
        "# 다운로드 경로\n",
        "# 이미지 파일 경로\n",
        "# 대선 - 1, 가연 -2, 유리 - 3, 동우-4, 지윤 -5에 맞게 수정\n",
        "download_path = \"/content/drive/MyDrive/aihub/딥페이크 변조 영상/train_img/Fake_img/Fake_img2\"\n",
        "df_fake = pd.read_csv(\"/content/drive/MyDrive/aihub/딥페이크 변조 영상/Fake_list.csv\")\n",
        "file_list = df_fake['0']\n",
        "file_count = len(file_list) #26198개 맞는지 확인해보세요!\n",
        "print('26198개 맞는지 확인:', file_count)\n",
        "\n",
        "except_list = []"
      ],
      "metadata": {
        "id": "3p49t7jBLh1Z"
      },
      "execution_count": 92,
      "outputs": []
    },
    {
      "cell_type": "code",
      "source": [
        "#대선[0:5000], 가연[5000:10000], 유리[10000:15000], 동우[15000:20000], 지윤[20000:]\n",
        "#밑의 파일 리스트 변경\n",
        "file_list_5000 = file_list[5000:10000]\n",
        "for file in file_list_5000:\n",
        "  # 프레임등의 정보 저장\n",
        "  video = cv2.VideoCapture(file)\n",
        "  fps = video.get(cv2.CAP_PROP_FPS) #초당 프레임 수\n",
        "  total_frames = int(video.get(cv2.CAP_PROP_FRAME_COUNT)) #영상 전체의 프레임\n",
        "\n",
        "  if total_frames == 0:\n",
        "    except_list.append(file)\n",
        "    print(len(except_list))\n",
        "    continue\n",
        "\n",
        "  # 전체 프레임 중에 무작위로 10개의 숫자 뽑기\n",
        "  random_frames = random.sample(range(total_frames), 10)\n",
        "\n",
        "  count = 0 # 현재 프레임 초기화\n",
        "\n",
        "  while(video.isOpened()):\n",
        "      ret, frame = video.read()\n",
        "      if not ret:\n",
        "        print(f\"동영상 {file.split('/')[-1].split('.')[0]} 종료\")\n",
        "        break\n",
        "\n",
        "      # 현재 프레임 인덱스가 무작위로 선택된 프레임 인덱스와 일치하는 경우에만 저장\n",
        "      if count in random_frames:\n",
        "          # 이미지를 저장할 파일 경로\n",
        "          save_file_path = f\"{download_path}/{file.split('/')[-1].split('.')[0]}_{count}.jpg\"\n",
        "          # 이미지 저장\n",
        "          cv2.imwrite(save_file_path, frame)\n",
        "          # print(f\"프레임 {count} 저장 완료\")\n",
        "\n",
        "      count += 1\n",
        "\n",
        "  # 동영상 파일 닫기\n",
        "  video.release()"
      ],
      "metadata": {
        "id": "b4rXww1p_TIo"
      },
      "execution_count": null,
      "outputs": []
    },
    {
      "cell_type": "code",
      "source": [
        "#저장된 이미지 갯수 확인\n",
        "#약 2만개 출력\n",
        "df = glob.glob('/content/drive/MyDrive/aihub/딥페이크 변조 영상/train_img/Fake_img/Fake_img2/*')\n",
        "len(df)"
      ],
      "metadata": {
        "colab": {
          "base_uri": "https://localhost:8080/"
        },
        "id": "vvYbgd-4N_8l",
        "outputId": "901d7c59-83f0-494c-82ee-52d1a1ddeae6"
      },
      "execution_count": 94,
      "outputs": [
        {
          "output_type": "execute_result",
          "data": {
            "text/plain": [
              "20406"
            ]
          },
          "metadata": {},
          "execution_count": 94
        }
      ]
    },
    {
      "cell_type": "markdown",
      "source": [
        "# Real 동영상 Video to Image 코드 [인당 2200개의 영상]"
      ],
      "metadata": {
        "id": "5MVy8ab3O9zl"
      }
    },
    {
      "cell_type": "code",
      "source": [
        "# 다운로드 경로\n",
        "# 이미지 파일 경로\n",
        "# 대선 - 1, 가연 -2, 유리 - 3, 동우-4, 지윤 -5에 맞게 수정\n",
        "download_path = \"/content/drive/MyDrive/aihub/딥페이크 변조 영상/train_img/Real_img/Real_img1\"\n",
        "df_real = pd.read_csv(\"/content/drive/MyDrive/aihub/딥페이크 변조 영상/Real_11000_list.csv\")\n",
        "\n",
        "file_list = df_real['0']\n",
        "file_count = len(file_list) #11000개 맞는지 확인해보세요!\n",
        "print('11000개 맞는지 확인:', file_count)\n",
        "\n",
        "#대선 : [0:2200], 가연[2200:4400], 유리[4400:6600], 동우[6600:8800], 지윤[8800:]\n",
        "#밑의 파일 리스트 변경\n",
        "file_list_2200 = file_list[:2200]\n",
        "except_list = []"
      ],
      "metadata": {
        "colab": {
          "base_uri": "https://localhost:8080/"
        },
        "id": "lN78wA2QM512",
        "outputId": "dd1b012e-0445-4471-f928-3c9894fea4e5"
      },
      "execution_count": 6,
      "outputs": [
        {
          "output_type": "stream",
          "name": "stdout",
          "text": [
            "11000개 맞는지 확인: 11000\n"
          ]
        }
      ]
    },
    {
      "cell_type": "code",
      "source": [
        "for file in file_list_2200:\n",
        "  # 프레임등의 정보 저장\n",
        "  video = cv2.VideoCapture(file)\n",
        "  fps = video.get(cv2.CAP_PROP_FPS) #초당 프레임 수\n",
        "  total_frames = int(video.get(cv2.CAP_PROP_FRAME_COUNT)) #영상 전체의 프레임\n",
        "\n",
        "  if total_frames == 0:\n",
        "    except_list.append(file)\n",
        "    print(len(except_list))\n",
        "    continue\n",
        "\n",
        "  # 전체 프레임 중에 무작위로 10개의 숫자 뽑기\n",
        "  random_frames = random.sample(range(total_frames), 10)\n",
        "\n",
        "  count = 0 # 현재 프레임 초기화\n",
        "\n",
        "  while(video.isOpened()):\n",
        "      ret, frame = video.read()\n",
        "      if not ret:\n",
        "        print(f\"동영상 {file.split('/')[-1].split('.')[0]} 종료\")\n",
        "        break\n",
        "\n",
        "      # 현재 프레임 인덱스가 무작위로 선택된 프레임 인덱스와 일치하는 경우에만 저장\n",
        "      if count in random_frames:\n",
        "          # 이미지를 저장할 파일 경로\n",
        "          save_file_path = f\"{download_path}/{file.split('/')[-1].split('.')[0]}_{count}.jpg\"\n",
        "          # 이미지 저장\n",
        "          cv2.imwrite(save_file_path, frame)\n",
        "          # print(f\"프레임 {count} 저장 완료\")\n",
        "\n",
        "      count += 1\n",
        "\n",
        "  # 동영상 파일 닫기\n",
        "  video.release()"
      ],
      "metadata": {
        "id": "JpdkP2mYPRMg"
      },
      "execution_count": null,
      "outputs": []
    }
  ]
}